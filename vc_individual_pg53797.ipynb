{
  "cells": [
    {
      "cell_type": "markdown",
      "metadata": {
        "id": "E43o8a6o4uHH"
      },
      "source": [
        "## Dataset link\n",
        "https://www.kaggle.com/datasets/shreyashgupta88/american-sign-language-thresholded"
      ]
    },
    {
      "cell_type": "code",
      "execution_count": 1,
      "metadata": {
        "id": "FS3CZKkf4cT5"
      },
      "outputs": [],
      "source": [
        "#Imports\n",
        "\n",
        "import torch\n",
        "import torchvision\n",
        "import torchvision.transforms as transforms\n",
        "\n",
        "import torchinfo\n",
        "\n",
        "import matplotlib.pyplot as plt\n",
        "from matplotlib import colors\n",
        "import numpy as np\n",
        "import time\n",
        "\n",
        "import os\n",
        "import pathlib\n",
        "from importlib import reload\n",
        "from PIL import Image\n",
        "import skimage\n",
        "from tqdm import tqdm\n",
        "\n",
        "# importing a module with utilities for displaying stats and data\n",
        "import sys\n",
        "sys.path.insert(1, 'util')\n",
        "import vcpi_util"
      ]
    },
    {
      "cell_type": "code",
      "execution_count": 2,
      "metadata": {
        "colab": {
          "base_uri": "https://localhost:8080/"
        },
        "id": "5FNOp83cFzq3",
        "outputId": "ae0f1902-b2f7-43b3-f56c-5f10ce53a085"
      },
      "outputs": [
        {
          "name": "stdout",
          "output_type": "stream",
          "text": [
            "2.3.1+cu121\n"
          ]
        }
      ],
      "source": [
        "print(torch.__version__)"
      ]
    },
    {
      "cell_type": "code",
      "execution_count": 3,
      "metadata": {
        "colab": {
          "base_uri": "https://localhost:8080/"
        },
        "id": "VlR2b531F3Lz",
        "outputId": "606712de-b738-4682-fd0a-502b3302f5a4"
      },
      "outputs": [
        {
          "name": "stdout",
          "output_type": "stream",
          "text": [
            "cuda:0\n"
          ]
        }
      ],
      "source": [
        "device = torch.device('cuda:0' if torch.cuda.is_available() else 'cpu')\n",
        "print(device)"
      ]
    },
    {
      "cell_type": "markdown",
      "metadata": {},
      "source": [
        "### Data Preparation"
      ]
    },
    {
      "cell_type": "code",
      "execution_count": 4,
      "metadata": {},
      "outputs": [],
      "source": [
        "HEIGHT = 28\n",
        "WIDTH = 28\n",
        "NUM_CHANNELS = 1\n",
        "BATCH_SIZE = 32\n",
        "LATENT_SPACE_DIM = [2,4,8,16]\n",
        "EPOCHS = 20\n",
        "\n",
        "MODEL_PATH = 'autoencoder_models'\n",
        "\n",
        "train_online = True"
      ]
    },
    {
      "cell_type": "code",
      "execution_count": 5,
      "metadata": {},
      "outputs": [
        {
          "data": {
            "text/plain": [
              "<module 'vcpi_util' from 'c:\\\\Users\\\\User\\\\Desktop\\\\VC_INDIVIDUAL\\\\util\\\\vcpi_util.py'>"
            ]
          },
          "execution_count": 5,
          "metadata": {},
          "output_type": "execute_result"
        }
      ],
      "source": [
        "reload(vcpi_util)"
      ]
    },
    {
      "cell_type": "markdown",
      "metadata": {},
      "source": [
        "### Models and Training"
      ]
    },
    {
      "cell_type": "code",
      "execution_count": 6,
      "metadata": {},
      "outputs": [],
      "source": [
        "#Função de treino, tirada do notebook 09\n",
        "\n",
        "def train(model, train_loader, val_loader, epochs, loss_fn, optimizer, scheduler, early_stopper, save_prefix = 'model'):\n",
        "\n",
        "    history = {}\n",
        "\n",
        "    history['val_loss'] = []\n",
        "    history['loss'] = []\n",
        "    best_val_loss = np.inf\n",
        "\n",
        "    for epoch in range(epochs):  # loop over the dataset multiple times\n",
        "\n",
        "        model.train()\n",
        "        start_time = time.time() \n",
        "        correct = 0\n",
        "        running_loss = 0.0\n",
        "        for i, (inputs, _) in tqdm(enumerate(train_loader, 0)):\n",
        "            \n",
        "            inputs = inputs.to(device)\n",
        "    \n",
        "            outputs = model(inputs)\n",
        "    \n",
        "            loss = loss_fn(outputs, inputs)\n",
        "            \n",
        "            optimizer.zero_grad()\n",
        "            loss.backward()\n",
        "            optimizer.step()\n",
        "\n",
        "            running_loss += loss.cpu().detach().numpy()\n",
        "     \n",
        "        model.eval()\n",
        "        val_loss = 0.0\n",
        "        with torch.no_grad():\n",
        "            for i,_ in val_loader:\n",
        "                i = i.to(device)\n",
        "                o = model(i)\n",
        "                \n",
        "                #with torch.no_grad():\n",
        "                val_loss += loss_fn(o, i).cpu().detach().numpy()\n",
        "\n",
        "\n",
        "        old_lr = optimizer.param_groups[0]['lr']\n",
        "        scheduler.step(val_loss)\n",
        "        new_lr = optimizer.param_groups[0]['lr']\n",
        "        \n",
        "        if old_lr != new_lr:\n",
        "            print('==> Learning rate updated: ', old_lr, ' -> ', new_lr)\n",
        "\n",
        "        epoch_loss = running_loss / len(train_loader.dataset)\n",
        "        val_loss = val_loss / len(val_loader.dataset)\n",
        "        stop_time = time.time()\n",
        "        print(f'Epoch: {epoch:03d}; Loss: {epoch_loss:0.6f}; Val Loss: {val_loss:0.6f}; Elapsed time: {(stop_time - start_time):0.4f}')\n",
        "\n",
        "        history['val_loss'].append(val_loss)\n",
        "        history['loss'].append(epoch_loss)\n",
        " \n",
        "        ###### Saving ######\n",
        "        if val_loss < best_val_loss:\n",
        "           \n",
        "            torch.save({\n",
        "                'epoch': epoch,\n",
        "                'model':model.state_dict(),\n",
        "                'history': history,\n",
        "                'optimizer': optimizer.state_dict(),\n",
        "                'scheduler': scheduler.state_dict()\n",
        "                },\n",
        "                f'{save_prefix}_best.pt')\n",
        "            best_val_loss = val_loss\n",
        "\n",
        "        if early_stopper(val_loss):\n",
        "            print('Early stopping!')\n",
        "            break\n",
        "        \n",
        "    print('Finished Training')\n",
        "\n",
        "    return(history)\n",
        "\n",
        "\n",
        "\n",
        "class Early_Stopping():\n",
        "\n",
        "    def __init__(self, patience = 3, min_delta = 0.00001):\n",
        "\n",
        "        self.patience = patience \n",
        "        self.min_delta = min_delta\n",
        "\n",
        "        self.min_val_loss = float('inf')\n",
        "\n",
        "    def __call__(self, val_loss):\n",
        "\n",
        "        # improvement\n",
        "        if val_loss + self.min_delta < self.min_val_loss:\n",
        "            self.min_val_loss = val_loss\n",
        "            self.counter = 0\n",
        "\n",
        "        # no improvement            \n",
        "        else:\n",
        "            self.counter += 1\n",
        "            if self.counter > self.patience:\n",
        "                return True\n",
        "            \n",
        "        return False"
      ]
    },
    {
      "cell_type": "code",
      "execution_count": 7,
      "metadata": {},
      "outputs": [],
      "source": [
        "def plot_scatter(x,y,targets):\n",
        "    cmap = colors.ListedColormap(['black', 'darkred', 'darkblue', \n",
        "                                  'darkgreen', 'yellow', 'brown', \n",
        "                                  'purple', 'lightgreen', 'red', 'lightblue'])\n",
        "    bounds=[0, 0.5, 1.5, 2.5, 3.5, 4.5, 5.5, 6.5, 7.5,8.5,9.5]\n",
        "    norm = colors.BoundaryNorm(bounds, cmap.N)\n",
        "\n",
        "    plt.figure(figsize=(10,10))\n",
        "    plt.scatter(x, y, c = targets, cmap=cmap, s = 1, norm=norm)\n",
        "    plt.colorbar()\n",
        "\n",
        "    plt.show()\n",
        "\n",
        "\n",
        "def show_preds(set1, set2, count):\n",
        "  \n",
        "  columns = 4\n",
        "  rows = int(count*2 / columns) + 1  \n",
        "  plt.figure(figsize=(count, 2 * rows))\n",
        "  \n",
        "  for n in range(count):\n",
        "      ax = plt.subplot(rows, columns, n*2+1)\n",
        "      plt.title(\"original\")\n",
        "      plt.imshow(np.transpose(set1[n].numpy(), (1,2,0)), cmap=plt.cm.gray)\n",
        "      plt.axis('off')\n",
        "      ax = plt.subplot(rows, columns, n*2+2)\n",
        "      plt.title(\"reconstruction\")\n",
        "      plt.imshow(np.transpose(set2[n].cpu().detach().numpy(), (1,2,0)), cmap=plt.cm.gray)\n",
        "      plt.axis('off') "
      ]
    },
    {
      "cell_type": "code",
      "execution_count": 8,
      "metadata": {},
      "outputs": [],
      "source": [
        "#CVAE (retirado do notebook 11)\n",
        "#Encoder\n",
        "class Encoder(torch.nn.Module):\n",
        "\n",
        "    def __init__(self, latent_space_dim):\n",
        "\n",
        "        super().__init__()\n",
        "\n",
        "        # encoder layers\n",
        "        self.econv1 = torch.nn.Conv2d(in_channels = 1, out_channels = 32, kernel_size= 3, stride = 2)\n",
        "        self.erelu1 = torch.nn.ReLU()\n",
        "        self.ebn1 = torch.nn.BatchNorm2d(32)\n",
        "\n",
        "        self.econv2 = torch.nn.Conv2d(in_channels = 32, out_channels = 64, kernel_size= 3, stride = 2)\n",
        "        self.erelu2 = torch.nn.ReLU()\n",
        "        self.ebn2 = torch.nn.BatchNorm2d(64)\n",
        "\n",
        "        self.efc1_mean = torch.nn.Linear(3136, latent_space_dim)\n",
        "        self.efc1_log_var = torch.nn.Linear(3136, latent_space_dim)\n",
        "\n",
        "    def forward(self, x):\n",
        "\n",
        "        x = torch.nn.functional.pad(x, (0,1,0,1)) # pad left, right, top, bottom\n",
        "        x = self.econv1(x)\n",
        "        x = self.ebn1(x)\n",
        "        x = self.erelu1(x)\n",
        "\n",
        "        x = torch.nn.functional.pad(x, (0,1,0,1)) # pad left, right, top, bottom\n",
        "        x = self.econv2(x)\n",
        "        x = self.ebn2(x)\n",
        "        x = self.erelu2(x)\n",
        "\n",
        "        x = torch.flatten(x,1)\n",
        "        mean = self.efc1_mean(x)\n",
        "        log_var = self.efc1_log_var(x)\n",
        "\n",
        "        return mean, log_var\n",
        "    \n",
        "#Decoder\n",
        "\n",
        "class Decoder(torch.nn.Module):\n",
        "\n",
        "    def __init__(self, latent_space_dim, condition_dim):\n",
        "        \n",
        "        super().__init__()\n",
        "\n",
        "        self.dfc1 = torch.nn.Linear(latent_space_dim + condition_dim, 3136)\n",
        "        \n",
        "        self.dconvT1 = torch.nn.ConvTranspose2d(64, 32, 3, 2, padding = 1, output_padding=1)\n",
        "        self.drelu1 = torch.nn.ReLU()\n",
        "        self.dbn1 = torch.nn.BatchNorm2d(32)\n",
        "\n",
        "        self.dconvT2 = torch.nn.ConvTranspose2d(32, 1,3,2, padding = 1, output_padding = 1)\n",
        "        self.dsig = torch.nn.Sigmoid()\n",
        "\n",
        "\n",
        "    def forward(self, x, condition):\n",
        "\n",
        "\n",
        "        x = self.dfc1(torch.cat([x,condition],1))\n",
        "        x = x.reshape(-1, 64, 7, 7)\n",
        "        x = self.dconvT1(x)\n",
        "        x = self.dbn1(x)\n",
        "        x = self.drelu1(x)\n",
        "\n",
        "        x = self.dconvT2(x)\n",
        "        x = self.dsig(x)\n",
        "\n",
        "        return x \n",
        "    \n",
        "#CVAE\n",
        "\n",
        "class CVAE(torch.nn.Module):\n",
        "\n",
        "    def __init__(self, encoder, decoder):\n",
        "\n",
        "        super().__init__()\n",
        "\n",
        "        self.encoder = encoder\n",
        "        self.decoder = decoder\n",
        "\n",
        "    def reparametrization(self, mean, var):\n",
        "\n",
        "        epsilon = torch.randn_like(mean).to(device)    \n",
        "        z = mean + var * epsilon  \n",
        "        return z  \n",
        "\n",
        "    def forward(self, x,condition):\n",
        "\n",
        "        mean, log_var = self.encoder(x)\n",
        "        var = torch.exp(0.5 * log_var)\n",
        "        z = self.reparametrization(mean, var)\n",
        "        output = self.decoder(z, condition)\n",
        "\n",
        "        return output, mean, log_var\n"
      ]
    }
  ],
  "metadata": {
    "accelerator": "GPU",
    "colab": {
      "gpuType": "T4",
      "provenance": []
    },
    "kernelspec": {
      "display_name": "Python 3",
      "name": "python3"
    },
    "language_info": {
      "codemirror_mode": {
        "name": "ipython",
        "version": 3
      },
      "file_extension": ".py",
      "mimetype": "text/x-python",
      "name": "python",
      "nbconvert_exporter": "python",
      "pygments_lexer": "ipython3",
      "version": "3.10.11"
    }
  },
  "nbformat": 4,
  "nbformat_minor": 0
}
