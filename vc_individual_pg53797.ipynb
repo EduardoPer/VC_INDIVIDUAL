{
  "cells": [
    {
      "cell_type": "markdown",
      "metadata": {
        "id": "E43o8a6o4uHH"
      },
      "source": [
        "## Dataset link\n",
        "https://www.kaggle.com/datasets/shreyashgupta88/american-sign-language-thresholded"
      ]
    },
    {
      "cell_type": "code",
      "execution_count": 1,
      "metadata": {
        "id": "FS3CZKkf4cT5"
      },
      "outputs": [],
      "source": [
        "#Imports\n",
        "\n",
        "import torch\n",
        "import torchvision\n",
        "import torchvision.transforms as transforms\n",
        "\n",
        "import torchinfo\n",
        "\n",
        "import matplotlib.pyplot as plt\n",
        "import numpy as np\n",
        "import time\n",
        "\n",
        "import os\n",
        "import pathlib\n",
        "from PIL import Image\n",
        "import skimage\n",
        "from tqdm import tqdm\n",
        "\n",
        "# importing a module with utilities for displaying stats and data\n",
        "import sys\n",
        "sys.path.insert(1, 'util')\n",
        "import vcpi_util"
      ]
    },
    {
      "cell_type": "code",
      "execution_count": 2,
      "metadata": {
        "colab": {
          "base_uri": "https://localhost:8080/"
        },
        "id": "5FNOp83cFzq3",
        "outputId": "ae0f1902-b2f7-43b3-f56c-5f10ce53a085"
      },
      "outputs": [
        {
          "name": "stdout",
          "output_type": "stream",
          "text": [
            "2.3.1+cu121\n"
          ]
        }
      ],
      "source": [
        "print(torch.__version__)"
      ]
    },
    {
      "cell_type": "code",
      "execution_count": 3,
      "metadata": {
        "colab": {
          "base_uri": "https://localhost:8080/"
        },
        "id": "VlR2b531F3Lz",
        "outputId": "606712de-b738-4682-fd0a-502b3302f5a4"
      },
      "outputs": [
        {
          "name": "stdout",
          "output_type": "stream",
          "text": [
            "cuda:0\n"
          ]
        }
      ],
      "source": [
        "device = torch.device('cuda:0' if torch.cuda.is_available() else 'cpu')\n",
        "print(device)"
      ]
    }
  ],
  "metadata": {
    "accelerator": "GPU",
    "colab": {
      "gpuType": "T4",
      "provenance": []
    },
    "kernelspec": {
      "display_name": "Python 3",
      "name": "python3"
    },
    "language_info": {
      "codemirror_mode": {
        "name": "ipython",
        "version": 3
      },
      "file_extension": ".py",
      "mimetype": "text/x-python",
      "name": "python",
      "nbconvert_exporter": "python",
      "pygments_lexer": "ipython3",
      "version": "3.10.11"
    }
  },
  "nbformat": 4,
  "nbformat_minor": 0
}
